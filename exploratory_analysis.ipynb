import pandas as pd
import matplotlib.pyplot as plt
import seaborn as sns
from src.data_preprocessing import load_data, preprocess_data
from src.visualization import plot_data

# Load and preprocess data
df = load_data('data/imoveis.csv')
df = preprocess_data(df)

# Perform exploratory analysis
plot_data(df)
